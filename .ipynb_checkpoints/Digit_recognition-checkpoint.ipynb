{
 "cells": [
  {
   "cell_type": "code",
   "execution_count": 1,
   "metadata": {},
   "outputs": [
    {
     "name": "stderr",
     "output_type": "stream",
     "text": [
      "C:\\ProgramData\\Anaconda3\\lib\\site-packages\\h5py\\__init__.py:34: FutureWarning: Conversion of the second argument of issubdtype from `float` to `np.floating` is deprecated. In future, it will be treated as `np.float64 == np.dtype(float).type`.\n",
      "  from ._conv import register_converters as _register_converters\n",
      "Using TensorFlow backend.\n"
     ]
    }
   ],
   "source": [
    "import pandas as pd\n",
    "import numpy as np\n",
    "import matplotlib.pyplot as plt\n",
    "\n",
    "from sklearn.model_selection import train_test_split\n",
    "from sklearn.neural_network import MLPClassifier\n",
    "from keras.utils.np_utils import to_categorical\n",
    "%matplotlib inline"
   ]
  },
  {
   "cell_type": "code",
   "execution_count": 2,
   "metadata": {
    "collapsed": true
   },
   "outputs": [],
   "source": [
    "train = pd.read_csv(\"train.csv\")\n",
    "test = pd.read_csv(\"test.csv\")"
   ]
  },
  {
   "cell_type": "code",
   "execution_count": 183,
   "metadata": {},
   "outputs": [],
   "source": [
    "Y_train = train[['label']]\n",
    "X_train = train.drop([\"label\"],axis=1)\n",
    "X_test = test"
   ]
  },
  {
   "cell_type": "code",
   "execution_count": 184,
   "metadata": {},
   "outputs": [
    {
     "data": {
      "text/plain": [
       "(42000, 784)"
      ]
     },
     "execution_count": 184,
     "metadata": {},
     "output_type": "execute_result"
    }
   ],
   "source": [
    "X_train.shape"
   ]
  },
  {
   "cell_type": "code",
   "execution_count": 185,
   "metadata": {},
   "outputs": [],
   "source": [
    "X_train = X_train/255\n",
    "X_test = X_test/255"
   ]
  },
  {
   "cell_type": "code",
   "execution_count": 186,
   "metadata": {},
   "outputs": [
    {
     "data": {
      "text/plain": [
       "(42000, 1)"
      ]
     },
     "execution_count": 186,
     "metadata": {},
     "output_type": "execute_result"
    }
   ],
   "source": [
    "Y_train.shape"
   ]
  },
  {
   "cell_type": "code",
   "execution_count": null,
   "metadata": {},
   "outputs": [],
   "source": [
    "X_train, X_val, Y_train, Y_val = train_test_split(X_train, Y_train, test_size = 0.1, random_state=2)"
   ]
  },
  {
   "cell_type": "code",
   "execution_count": 227,
   "metadata": {},
   "outputs": [],
   "source": [
    "clf = MLPClassifier( solver='adam',alpha=0.0002, hidden_layer_sizes=(300,200,300,200,100,10), random_state=1,verbose=True)\n",
    "#128,64,10\n",
    "#300,200,300,200,10->143\n",
    "#300,200,300,200,100,10->98"
   ]
  },
  {
   "cell_type": "code",
   "execution_count": 188,
   "metadata": {},
   "outputs": [],
   "source": [
    "\n",
    "Y_train = to_categorical(Y_train, num_classes = 10)\n",
    "#Y_val = to_categorical(Y_val, num_classes = 10)\n"
   ]
  },
  {
   "cell_type": "code",
   "execution_count": 228,
   "metadata": {},
   "outputs": [
    {
     "name": "stdout",
     "output_type": "stream",
     "text": [
      "(42000, 10)\n",
      "Iteration 1, loss = 4.04535313\n",
      "Iteration 2, loss = 2.68788783\n",
      "Iteration 3, loss = 1.84552050\n",
      "Iteration 4, loss = 1.30501229\n",
      "Iteration 5, loss = 1.02584111\n",
      "Iteration 6, loss = 0.80532038\n",
      "Iteration 7, loss = 0.64825895\n",
      "Iteration 8, loss = 0.55009733\n",
      "Iteration 9, loss = 0.48413580\n",
      "Iteration 10, loss = 0.43371085\n",
      "Iteration 11, loss = 0.39489459\n",
      "Iteration 12, loss = 0.36184566\n",
      "Iteration 13, loss = 0.33431769\n",
      "Iteration 14, loss = 0.31100381\n",
      "Iteration 15, loss = 0.29088868\n",
      "Iteration 16, loss = 0.27183108\n",
      "Iteration 17, loss = 0.25573365\n",
      "Iteration 18, loss = 0.24055761\n",
      "Iteration 19, loss = 0.22750790\n",
      "Iteration 20, loss = 0.21581800\n",
      "Iteration 21, loss = 0.20380456\n",
      "Iteration 22, loss = 0.19399255\n",
      "Iteration 23, loss = 0.18408246\n",
      "Iteration 24, loss = 0.17444515\n",
      "Iteration 25, loss = 0.16603568\n",
      "Iteration 26, loss = 0.15783208\n",
      "Iteration 27, loss = 0.15095398\n",
      "Iteration 28, loss = 0.14316646\n",
      "Iteration 29, loss = 0.13663474\n",
      "Iteration 30, loss = 0.13033127\n",
      "Iteration 31, loss = 0.12428769\n",
      "Iteration 32, loss = 0.11816013\n",
      "Iteration 33, loss = 0.11325039\n",
      "Iteration 34, loss = 0.10829641\n",
      "Iteration 35, loss = 0.10239294\n",
      "Iteration 36, loss = 0.09788814\n",
      "Iteration 37, loss = 0.09342095\n",
      "Iteration 38, loss = 0.08868668\n",
      "Iteration 39, loss = 0.08418681\n",
      "Iteration 40, loss = 0.08012222\n",
      "Iteration 41, loss = 0.07661274\n",
      "Iteration 42, loss = 0.07310615\n",
      "Iteration 43, loss = 0.06910896\n",
      "Iteration 44, loss = 0.06585215\n",
      "Iteration 45, loss = 0.06254678\n",
      "Iteration 46, loss = 0.05923375\n",
      "Iteration 47, loss = 0.05639997\n",
      "Iteration 48, loss = 0.05305415\n",
      "Iteration 49, loss = 0.05064351\n",
      "Iteration 50, loss = 0.04811985\n",
      "Iteration 51, loss = 0.04547866\n",
      "Iteration 52, loss = 0.04285537\n",
      "Iteration 53, loss = 0.04060879\n",
      "Iteration 54, loss = 0.03846517\n",
      "Iteration 55, loss = 0.03661740\n",
      "Iteration 56, loss = 0.03448175\n",
      "Iteration 57, loss = 0.03274389\n",
      "Iteration 58, loss = 0.03051510\n",
      "Iteration 59, loss = 0.02894720\n"
     ]
    },
    {
     "name": "stderr",
     "output_type": "stream",
     "text": [
      "C:\\ProgramData\\Anaconda3\\lib\\site-packages\\sklearn\\neural_network\\multilayer_perceptron.py:566: UserWarning: Training interrupted by user.\n",
      "  warnings.warn(\"Training interrupted by user.\")\n"
     ]
    },
    {
     "data": {
      "text/plain": [
       "MLPClassifier(activation='relu', alpha=0.0002, batch_size='auto', beta_1=0.9,\n",
       "       beta_2=0.999, early_stopping=False, epsilon=1e-08,\n",
       "       hidden_layer_sizes=(300, 200, 300, 200, 100, 10),\n",
       "       learning_rate='constant', learning_rate_init=0.001, max_iter=200,\n",
       "       momentum=0.9, nesterovs_momentum=True, power_t=0.5, random_state=1,\n",
       "       shuffle=True, solver='sgd', tol=0.0001, validation_fraction=0.1,\n",
       "       verbose=True, warm_start=False)"
      ]
     },
     "execution_count": 228,
     "metadata": {},
     "output_type": "execute_result"
    }
   ],
   "source": [
    "print(Y_train.shape)\n",
    "clf.fit(X_train,Y_train)\n"
   ]
  },
  {
   "cell_type": "code",
   "execution_count": 229,
   "metadata": {},
   "outputs": [
    {
     "name": "stdout",
     "output_type": "stream",
     "text": [
      "score:  0.997\n"
     ]
    }
   ],
   "source": [
    "X_pred_val = clf.predict(X_train)\n",
    "print(\"score: \",str(clf.score(X_train,Y_train)))\n"
   ]
  },
  {
   "cell_type": "code",
   "execution_count": 230,
   "metadata": {},
   "outputs": [
    {
     "name": "stdout",
     "output_type": "stream",
     "text": [
      "28000\n",
      "(28000, 10)\n"
     ]
    }
   ],
   "source": [
    "Y_test = clf.predict(X_test)\n",
    "print(len(Y_test))\n",
    "print(Y_test.shape)"
   ]
  },
  {
   "cell_type": "code",
   "execution_count": 231,
   "metadata": {},
   "outputs": [
    {
     "name": "stdout",
     "output_type": "stream",
     "text": [
      "int32\n"
     ]
    }
   ],
   "source": [
    "print(Y_test.dtype)"
   ]
  },
  {
   "cell_type": "code",
   "execution_count": 232,
   "metadata": {},
   "outputs": [
    {
     "name": "stdout",
     "output_type": "stream",
     "text": [
      "534\n"
     ]
    }
   ],
   "source": [
    "l=[]\n",
    "count=0\n",
    "for y in Y_test:\n",
    "    c=0\n",
    "    for yi in range(10):\n",
    "        if y[yi] == 1:\n",
    "            l.append(yi)\n",
    "            c=1\n",
    "            break\n",
    "    if c==0:\n",
    "        l.append(0)\n",
    "        count+=1\n",
    "print(count)\n",
    "        \n",
    "    "
   ]
  },
  {
   "cell_type": "code",
   "execution_count": 213,
   "metadata": {},
   "outputs": [
    {
     "name": "stdout",
     "output_type": "stream",
     "text": [
      "28000\n"
     ]
    }
   ],
   "source": [
    "print(len(l))"
   ]
  },
  {
   "cell_type": "code",
   "execution_count": 214,
   "metadata": {},
   "outputs": [
    {
     "data": {
      "text/html": [
       "<div>\n",
       "<style scoped>\n",
       "    .dataframe tbody tr th:only-of-type {\n",
       "        vertical-align: middle;\n",
       "    }\n",
       "\n",
       "    .dataframe tbody tr th {\n",
       "        vertical-align: top;\n",
       "    }\n",
       "\n",
       "    .dataframe thead th {\n",
       "        text-align: right;\n",
       "    }\n",
       "</style>\n",
       "<table border=\"1\" class=\"dataframe\">\n",
       "  <thead>\n",
       "    <tr style=\"text-align: right;\">\n",
       "      <th></th>\n",
       "      <th>ImageId</th>\n",
       "      <th>Label</th>\n",
       "    </tr>\n",
       "  </thead>\n",
       "  <tbody>\n",
       "    <tr>\n",
       "      <th>0</th>\n",
       "      <td>1</td>\n",
       "      <td>2</td>\n",
       "    </tr>\n",
       "    <tr>\n",
       "      <th>1</th>\n",
       "      <td>2</td>\n",
       "      <td>0</td>\n",
       "    </tr>\n",
       "    <tr>\n",
       "      <th>2</th>\n",
       "      <td>3</td>\n",
       "      <td>9</td>\n",
       "    </tr>\n",
       "    <tr>\n",
       "      <th>3</th>\n",
       "      <td>4</td>\n",
       "      <td>9</td>\n",
       "    </tr>\n",
       "    <tr>\n",
       "      <th>4</th>\n",
       "      <td>5</td>\n",
       "      <td>3</td>\n",
       "    </tr>\n",
       "    <tr>\n",
       "      <th>5</th>\n",
       "      <td>6</td>\n",
       "      <td>7</td>\n",
       "    </tr>\n",
       "    <tr>\n",
       "      <th>6</th>\n",
       "      <td>7</td>\n",
       "      <td>0</td>\n",
       "    </tr>\n",
       "    <tr>\n",
       "      <th>7</th>\n",
       "      <td>8</td>\n",
       "      <td>3</td>\n",
       "    </tr>\n",
       "    <tr>\n",
       "      <th>8</th>\n",
       "      <td>9</td>\n",
       "      <td>0</td>\n",
       "    </tr>\n",
       "    <tr>\n",
       "      <th>9</th>\n",
       "      <td>10</td>\n",
       "      <td>3</td>\n",
       "    </tr>\n",
       "  </tbody>\n",
       "</table>\n",
       "</div>"
      ],
      "text/plain": [
       "   ImageId  Label\n",
       "0        1      2\n",
       "1        2      0\n",
       "2        3      9\n",
       "3        4      9\n",
       "4        5      3\n",
       "5        6      7\n",
       "6        7      0\n",
       "7        8      3\n",
       "8        9      0\n",
       "9       10      3"
      ]
     },
     "execution_count": 214,
     "metadata": {},
     "output_type": "execute_result"
    }
   ],
   "source": [
    "df = pd.read_csv(\"sample_submission.csv\")\n",
    "df['Label'] = np.array(l)\n",
    "df.head(10)\n",
    "df.to_csv(\"submission.csv\",index=False)\n",
    "df = pd.read_csv(\"submission.csv\")\n",
    "df.head(10)"
   ]
  },
  {
   "cell_type": "code",
   "execution_count": null,
   "metadata": {},
   "outputs": [],
   "source": [
    "df.head(5)"
   ]
  },
  {
   "cell_type": "code",
   "execution_count": 27,
   "metadata": {},
   "outputs": [
    {
     "data": {
      "text/plain": [
       "<matplotlib.image.AxesImage at 0x1c71b327da0>"
      ]
     },
     "execution_count": 27,
     "metadata": {},
     "output_type": "execute_result"
    },
    {
     "data": {
      "image/png": "[encoded data removed]",
      "text/plain": [
       "<matplotlib.figure.Figure at 0x1c71b2e88d0>"
      ]
     },
     "metadata": {},
     "output_type": "display_data"
    }
   ],
   "source": [
    "#fig=plt.figure(figsize=(8, 8))\n",
    "#cols = 3\n",
    "#rows = 4\n",
    "#for i in range(1,13):\n",
    " #   fig.add_subplot(rows, cols, i)\n",
    "testimg = X_train.values[12].reshape(28,28)   \n",
    "plt.imshow(testimg)\n",
    "#plt.show()"
   ]
  },
  {
   "cell_type": "code",
   "execution_count": null,
   "metadata": {
    "collapsed": true
   },
   "outputs": [],
   "source": []
  }
 ],
 "metadata": {
  "kernelspec": {
   "display_name": "Python 3",
   "language": "python",
   "name": "python3"
  },
  "language_info": {
   "codemirror_mode": {
    "name": "ipython",
    "version": 3
   },
   "file_extension": ".py",
   "mimetype": "text/x-python",
   "name": "python",
   "nbconvert_exporter": "python",
   "pygments_lexer": "ipython3",
   "version": "3.6.3"
  }
 },
 "nbformat": 4,
 "nbformat_minor": 2
}
